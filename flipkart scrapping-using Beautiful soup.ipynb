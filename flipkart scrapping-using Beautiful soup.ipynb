{
 "cells": [
  {
   "cell_type": "markdown",
   "metadata": {},
   "source": [
    "Objective 2: Write a program to scrap reviews from flipkart.com for a product category of smart TV.\n",
    "Collect the following from the web page: You must collect the information from min 20 pages.\n",
    "a) Product name\n",
    "b) Rating\n",
    "c) Flipkart price\n",
    "d) Actual price\n",
    "e) Discount offered"
   ]
  },
  {
   "cell_type": "code",
   "execution_count": 1,
   "metadata": {},
   "outputs": [],
   "source": [
    "# Lets import the library\n",
    "\n",
    "import requests\n",
    "from requests import get\n",
    "from bs4 import BeautifulSoup"
   ]
  },
  {
   "cell_type": "code",
   "execution_count": 2,
   "metadata": {},
   "outputs": [],
   "source": [
    "# Step1:create a webpage link\n",
    "url=\"https://www.flipkart.com/search?q=smart+tv&as=on&as-show=on&otracker=AS_Query_OrganicAutoSuggest_3_5_na_na_na&otracker1=AS_Query_OrganicAutoSuggest_3_5_na_na_na&as-pos=3&as-type=RECENT&suggestionId=smart+tv&requestId=30979fbd-1ccf-4bf9-958a-b00c258d5842&as-searchtext=smart&page=1\"\n",
    "responce=get(url)"
   ]
  },
  {
   "cell_type": "code",
   "execution_count": 3,
   "metadata": {},
   "outputs": [],
   "source": [
    "bs4_obj = BeautifulSoup(responce.text, \"html.parser\")"
   ]
  },
  {
   "cell_type": "code",
   "execution_count": 4,
   "metadata": {},
   "outputs": [
    {
     "data": {
      "text/plain": [
       "24"
      ]
     },
     "execution_count": 4,
     "metadata": {},
     "output_type": "execute_result"
    }
   ],
   "source": [
    "master_container = bs4_obj.find_all('div', class_ = \"_2kHMtA\")\n",
    "\n",
    "len(master_container)"
   ]
  },
  {
   "cell_type": "markdown",
   "metadata": {},
   "source": [
    "#We will practice first to extract -name, price, rating,actual price and discount price of smart TVs from flipkart(first 20 pages)"
   ]
  },
  {
   "cell_type": "code",
   "execution_count": 5,
   "metadata": {},
   "outputs": [],
   "source": [
    "# Lets select the first container\n",
    "\n",
    "first_container = master_container[0]\n",
    "\n"
   ]
  },
  {
   "cell_type": "code",
   "execution_count": 6,
   "metadata": {},
   "outputs": [
    {
     "data": {
      "text/plain": [
       "'Mi 4A Horizon Edition 80 cm (32 inch) HD Ready LED Smart Android TV'"
      ]
     },
     "execution_count": 6,
     "metadata": {},
     "output_type": "execute_result"
    }
   ],
   "source": [
    "## name of the Tv \n",
    "\n",
    "first_container.find(\"div\" ,class_='_4rR01T').text"
   ]
  },
  {
   "cell_type": "code",
   "execution_count": 7,
   "metadata": {},
   "outputs": [
    {
     "data": {
      "text/plain": [
       "'4.3'"
      ]
     },
     "execution_count": 7,
     "metadata": {},
     "output_type": "execute_result"
    }
   ],
   "source": [
    "#rating of TV\n",
    "\n",
    "first_container.find(\"div\" ,class_='_3LWZlK').text"
   ]
  },
  {
   "cell_type": "code",
   "execution_count": 8,
   "metadata": {},
   "outputs": [
    {
     "data": {
      "text/plain": [
       "'₹14,999'"
      ]
     },
     "execution_count": 8,
     "metadata": {},
     "output_type": "execute_result"
    }
   ],
   "source": [
    "##price of the tv\n",
    "\n",
    "first_container.find('div', class_ = \"_30jeq3 _1_WHN1\").text"
   ]
  },
  {
   "cell_type": "code",
   "execution_count": 9,
   "metadata": {},
   "outputs": [
    {
     "data": {
      "text/plain": [
       "'₹15,999'"
      ]
     },
     "execution_count": 9,
     "metadata": {},
     "output_type": "execute_result"
    }
   ],
   "source": [
    "###Flipkart actual price\n",
    "first_container.find('div',class_=\"_3I9_wc _27UcVY\").text"
   ]
  },
  {
   "cell_type": "code",
   "execution_count": 10,
   "metadata": {},
   "outputs": [
    {
     "data": {
      "text/plain": [
       "'6% off'"
      ]
     },
     "execution_count": 10,
     "metadata": {},
     "output_type": "execute_result"
    }
   ],
   "source": [
    "##Discount offered\n",
    "first_container.find('div',class_=\"_3Ay6Sb\").text"
   ]
  },
  {
   "cell_type": "code",
   "execution_count": 11,
   "metadata": {},
   "outputs": [],
   "source": [
    "# Put everything into a single code and extract the required information\n",
    "# from all 24 containers of page 1\n",
    "\n",
    "# STEP 1: Create empty list of which every information you want extract\n",
    "\n",
    "\n",
    "name_tv = []\n",
    "rating_tv=[]\n",
    "price_tv=[]\n",
    "actual_tv=[]\n",
    "discount_tv=[]\n",
    "# STEP 2: Use a for loop to extract the information\n",
    "\n",
    "\n",
    "for x in master_container:\n",
    "     # Extract the name of the smart TV\n",
    "    \n",
    "    name = x.find('div', class_ = '_4rR01T').text\n",
    "    name_tv.append(name)\n",
    "    \n",
    "    #Extracting the rating of the tv\n",
    "    rating=x.find(\"div\" ,class_='_3LWZlK').text\n",
    "    rating_tv.append(rating)\n",
    "    \n",
    "\n",
    "    # Extracting the price of the TV\n",
    "    \n",
    "    price=x.find('div', class_ = \"_30jeq3 _1_WHN1\").text\n",
    "    price_tv.append(price)\n",
    "    \n",
    "    #Extracting the Flipkart price\n",
    "    \n",
    "    actual=x.find('div',class_=\"_3I9_wc _27UcVY\")\n",
    "    actual_tv.append(actual)\n",
    "    \n",
    "    # Extrating the discount of the TV\n",
    "    \n",
    "    discount= x.find('div',class_=\"_3Ay6Sb\")\n",
    "    discount_tv.append(discount)\n"
   ]
  },
  {
   "cell_type": "code",
   "execution_count": 12,
   "metadata": {},
   "outputs": [
    {
     "name": "stdout",
     "output_type": "stream",
     "text": [
      "24\n",
      "24\n",
      "24\n"
     ]
    }
   ],
   "source": [
    "# Please check the lenght of all the list must be same before you convert\n",
    "# them into a data frame\n",
    "\n",
    "print(len(name_tv))\n",
    "print(len(price_tv))\n",
    "print(len(rating_tv))"
   ]
  },
  {
   "cell_type": "code",
   "execution_count": 13,
   "metadata": {},
   "outputs": [
    {
     "data": {
      "text/html": [
       "<div>\n",
       "<style scoped>\n",
       "    .dataframe tbody tr th:only-of-type {\n",
       "        vertical-align: middle;\n",
       "    }\n",
       "\n",
       "    .dataframe tbody tr th {\n",
       "        vertical-align: top;\n",
       "    }\n",
       "\n",
       "    .dataframe thead th {\n",
       "        text-align: right;\n",
       "    }\n",
       "</style>\n",
       "<table border=\"1\" class=\"dataframe\">\n",
       "  <thead>\n",
       "    <tr style=\"text-align: right;\">\n",
       "      <th></th>\n",
       "      <th>TV Name</th>\n",
       "      <th>Rating</th>\n",
       "      <th>Price</th>\n",
       "      <th>Actual_price</th>\n",
       "      <th>Discount_price</th>\n",
       "    </tr>\n",
       "  </thead>\n",
       "  <tbody>\n",
       "    <tr>\n",
       "      <th>0</th>\n",
       "      <td>Mi 4A Horizon Edition 80 cm (32 inch) HD Ready...</td>\n",
       "      <td>4.3</td>\n",
       "      <td>₹14,999</td>\n",
       "      <td>[₹,  , 15,999]</td>\n",
       "      <td>[[6% off]]</td>\n",
       "    </tr>\n",
       "    <tr>\n",
       "      <th>1</th>\n",
       "      <td>Mi 4A PRO 80 cm (32 inch) HD Ready LED Smart A...</td>\n",
       "      <td>4.4</td>\n",
       "      <td>₹14,499</td>\n",
       "      <td>[₹,  , 14,999]</td>\n",
       "      <td>[[3% off]]</td>\n",
       "    </tr>\n",
       "    <tr>\n",
       "      <th>2</th>\n",
       "      <td>Samsung 80 cm (32 inch) HD Ready LED Smart TV ...</td>\n",
       "      <td>4.4</td>\n",
       "      <td>₹16,290</td>\n",
       "      <td>[₹,  , 19,900]</td>\n",
       "      <td>[[18% off]]</td>\n",
       "    </tr>\n",
       "    <tr>\n",
       "      <th>3</th>\n",
       "      <td>Mi 4X 125.7 cm (50 inch) Ultra HD (4K) LED Sma...</td>\n",
       "      <td>4.4</td>\n",
       "      <td>₹33,499</td>\n",
       "      <td>[₹,  , 34,999]</td>\n",
       "      <td>[[4% off]]</td>\n",
       "    </tr>\n",
       "    <tr>\n",
       "      <th>4</th>\n",
       "      <td>Mi 4A Pro 108 cm (43 inch) Full HD LED Smart A...</td>\n",
       "      <td>4.4</td>\n",
       "      <td>₹23,999</td>\n",
       "      <td>[₹,  , 25,999]</td>\n",
       "      <td>[[7% off]]</td>\n",
       "    </tr>\n",
       "  </tbody>\n",
       "</table>\n",
       "</div>"
      ],
      "text/plain": [
       "                                             TV Name Rating    Price  \\\n",
       "0  Mi 4A Horizon Edition 80 cm (32 inch) HD Ready...    4.3  ₹14,999   \n",
       "1  Mi 4A PRO 80 cm (32 inch) HD Ready LED Smart A...    4.4  ₹14,499   \n",
       "2  Samsung 80 cm (32 inch) HD Ready LED Smart TV ...    4.4  ₹16,290   \n",
       "3  Mi 4X 125.7 cm (50 inch) Ultra HD (4K) LED Sma...    4.4  ₹33,499   \n",
       "4  Mi 4A Pro 108 cm (43 inch) Full HD LED Smart A...    4.4  ₹23,999   \n",
       "\n",
       "     Actual_price Discount_price  \n",
       "0  [₹,  , 15,999]     [[6% off]]  \n",
       "1  [₹,  , 14,999]     [[3% off]]  \n",
       "2  [₹,  , 19,900]    [[18% off]]  \n",
       "3  [₹,  , 34,999]     [[4% off]]  \n",
       "4  [₹,  , 25,999]     [[7% off]]  "
      ]
     },
     "execution_count": 13,
     "metadata": {},
     "output_type": "execute_result"
    }
   ],
   "source": [
    "# Converting the list into the data frame \n",
    "\n",
    "import pandas as pd\n",
    "\n",
    "df = pd.DataFrame({\"TV Name\" : name_tv,\n",
    "                  \"Rating\" : rating_tv,\n",
    "                  \"Price\" : price_tv,\n",
    "                  \"Actual_price\" : actual_tv,\n",
    "                  \"Discount_price\" : discount_tv})\n",
    "\n",
    "df.head()"
   ]
  },
  {
   "cell_type": "code",
   "execution_count": 14,
   "metadata": {},
   "outputs": [],
   "source": [
    "# Lets create the list of the pages you want to extract\n",
    "\n",
    "page_number = [1,2,3,4,5,6,7,8,9,10,11,12,13,14,15,16,17,18,19,20]"
   ]
  },
  {
   "cell_type": "code",
   "execution_count": 15,
   "metadata": {},
   "outputs": [],
   "source": [
    "# Lets extact the information from first 10 pages\n",
    "\n",
    "# Create the empty list for information you want\n",
    "\n",
    "name_tv = []\n",
    "rating_tv=[]\n",
    "price_tv=[]\n",
    "actual_tv=[]\n",
    "discount_tv=[]\n",
    "\n",
    "for x in page_number:\n",
    "    \n",
    "    # Create the dynamic URL\n",
    "    url=\"https://www.flipkart.com/search?q=smart+tv&as=on&as-show=on&otracker=AS_Query_OrganicAutoSuggest_3_5_na_na_na&otracker1=AS_Query\"\n",
    "   \n",
    " # Create the response object\n",
    "    \n",
    "    response = get(url)\n",
    "    \n",
    "    # Create the beautiful Soup object\n",
    "    \n",
    "    bs4_obj = BeautifulSoup(response.text, \"html.parser\")\n",
    "    \n",
    "    # Create the master container\n",
    "    \n",
    "    master_container = bs4_obj.find_all('div', class_ = \"_2kHMtA\")\n",
    "\n",
    "    # Lets Iterate variable Y in the master container\n",
    "    \n",
    "    for y in master_container: \n",
    "        \n",
    "        # Extract the name of the smart TV\n",
    "    \n",
    "        name = y.find('div', class_ = '_4rR01T').text\n",
    "        name_tv.append(name)\n",
    "        \n",
    "        # Extrating the rating of the TV\n",
    "    \n",
    "        rating = y.find(\"div\" ,class_='_3LWZlK').text\n",
    "        rating_tv.append(rating)\n",
    "    \n",
    "        # Extracting the price of the TV\n",
    "    \n",
    "        price= y.find('div', class_ = \"_30jeq3 _1_WHN1\").text\n",
    "        price_tv.append(price)\n",
    "        \n",
    "        #Extracting the Flipkart price\n",
    "    \n",
    "        actual=y.find('div',class_=\"_3I9_wc _27UcVY\")\n",
    "        actual_tv.append(actual)\n",
    "    \n",
    "        # Extrating the discount of the TV\n",
    "    \n",
    "        discount= y.find('div',class_=\"_3Ay6Sb\")\n",
    "        discount_tv.append(discount)\n",
    "    \n",
    "        "
   ]
  },
  {
   "cell_type": "code",
   "execution_count": 16,
   "metadata": {},
   "outputs": [
    {
     "name": "stdout",
     "output_type": "stream",
     "text": [
      "480\n",
      "480\n",
      "480\n",
      "480\n",
      "480\n"
     ]
    }
   ],
   "source": [
    "# Please check the lenght of all the list must be same before you convert\n",
    "# them into a data frame\n",
    "\n",
    "print(len(name_tv))\n",
    "print(len(rating_tv))\n",
    "print(len(price_tv))\n",
    "print(len(actual_tv))\n",
    "print(len(discount_tv))"
   ]
  },
  {
   "cell_type": "code",
   "execution_count": 17,
   "metadata": {},
   "outputs": [
    {
     "data": {
      "text/html": [
       "<div>\n",
       "<style scoped>\n",
       "    .dataframe tbody tr th:only-of-type {\n",
       "        vertical-align: middle;\n",
       "    }\n",
       "\n",
       "    .dataframe tbody tr th {\n",
       "        vertical-align: top;\n",
       "    }\n",
       "\n",
       "    .dataframe thead th {\n",
       "        text-align: right;\n",
       "    }\n",
       "</style>\n",
       "<table border=\"1\" class=\"dataframe\">\n",
       "  <thead>\n",
       "    <tr style=\"text-align: right;\">\n",
       "      <th></th>\n",
       "      <th>TV Name</th>\n",
       "      <th>Rating</th>\n",
       "      <th>Price</th>\n",
       "      <th>Actual_price</th>\n",
       "      <th>Discount_price</th>\n",
       "    </tr>\n",
       "  </thead>\n",
       "  <tbody>\n",
       "    <tr>\n",
       "      <th>0</th>\n",
       "      <td>Mi 4A Horizon Edition 80 cm (32 inch) HD Ready...</td>\n",
       "      <td>4.3</td>\n",
       "      <td>₹14,999</td>\n",
       "      <td>[₹,  , 15,999]</td>\n",
       "      <td>[[6% off]]</td>\n",
       "    </tr>\n",
       "    <tr>\n",
       "      <th>1</th>\n",
       "      <td>Samsung 80 cm (32 inch) HD Ready LED Smart TV ...</td>\n",
       "      <td>4.4</td>\n",
       "      <td>₹16,290</td>\n",
       "      <td>[₹,  , 19,900]</td>\n",
       "      <td>[[18% off]]</td>\n",
       "    </tr>\n",
       "    <tr>\n",
       "      <th>2</th>\n",
       "      <td>Mi 4A PRO 80 cm (32 inch) HD Ready LED Smart A...</td>\n",
       "      <td>4.4</td>\n",
       "      <td>₹14,499</td>\n",
       "      <td>[₹,  , 14,999]</td>\n",
       "      <td>[[3% off]]</td>\n",
       "    </tr>\n",
       "    <tr>\n",
       "      <th>3</th>\n",
       "      <td>Mi 4X 125.7 cm (50 inch) Ultra HD (4K) LED Sma...</td>\n",
       "      <td>4.4</td>\n",
       "      <td>₹33,499</td>\n",
       "      <td>[₹,  , 34,999]</td>\n",
       "      <td>[[4% off]]</td>\n",
       "    </tr>\n",
       "    <tr>\n",
       "      <th>4</th>\n",
       "      <td>Mi 4A Pro 108 cm (43 inch) Full HD LED Smart A...</td>\n",
       "      <td>4.4</td>\n",
       "      <td>₹23,999</td>\n",
       "      <td>[₹,  , 25,999]</td>\n",
       "      <td>[[7% off]]</td>\n",
       "    </tr>\n",
       "    <tr>\n",
       "      <th>5</th>\n",
       "      <td>Mi 4X 108 cm (43 inch) Ultra HD (4K) LED Smart...</td>\n",
       "      <td>4.4</td>\n",
       "      <td>₹27,499</td>\n",
       "      <td>[₹,  , 28,999]</td>\n",
       "      <td>[[5% off]]</td>\n",
       "    </tr>\n",
       "    <tr>\n",
       "      <th>6</th>\n",
       "      <td>Mi 4A 100 cm (40 inch) Full HD LED Smart Andro...</td>\n",
       "      <td>4.4</td>\n",
       "      <td>₹19,999</td>\n",
       "      <td>None</td>\n",
       "      <td>None</td>\n",
       "    </tr>\n",
       "    <tr>\n",
       "      <th>7</th>\n",
       "      <td>Realme 80 cm (32 inch) HD Ready LED Smart Andr...</td>\n",
       "      <td>4.3</td>\n",
       "      <td>₹13,999</td>\n",
       "      <td>[₹,  , 14,999]</td>\n",
       "      <td>[[6% off]]</td>\n",
       "    </tr>\n",
       "    <tr>\n",
       "      <th>8</th>\n",
       "      <td>LG 80 cm (32 inch) HD Ready LED Smart TV 2020 ...</td>\n",
       "      <td>4.3</td>\n",
       "      <td>₹16,999</td>\n",
       "      <td>[₹,  , 21,990]</td>\n",
       "      <td>[[22% off]]</td>\n",
       "    </tr>\n",
       "    <tr>\n",
       "      <th>9</th>\n",
       "      <td>Samsung 80 cm (32 inch) HD Ready LED Smart TV ...</td>\n",
       "      <td>4.5</td>\n",
       "      <td>₹16,799</td>\n",
       "      <td>[₹,  , 20,900]</td>\n",
       "      <td>[[19% off]]</td>\n",
       "    </tr>\n",
       "    <tr>\n",
       "      <th>10</th>\n",
       "      <td>Realme 108 cm (43 inch) Full HD LED Smart Andr...</td>\n",
       "      <td>4.3</td>\n",
       "      <td>₹22,999</td>\n",
       "      <td>[₹,  , 25,999]</td>\n",
       "      <td>[[11% off]]</td>\n",
       "    </tr>\n",
       "    <tr>\n",
       "      <th>11</th>\n",
       "      <td>OnePlus Y Series 80 cm (32 inch) HD Ready LED ...</td>\n",
       "      <td>4.3</td>\n",
       "      <td>₹15,499</td>\n",
       "      <td>[₹,  , 19,999]</td>\n",
       "      <td>[[22% off]]</td>\n",
       "    </tr>\n",
       "    <tr>\n",
       "      <th>12</th>\n",
       "      <td>OnePlus Y Series 108 cm (43 inch) Full HD LED ...</td>\n",
       "      <td>4.3</td>\n",
       "      <td>₹24,999</td>\n",
       "      <td>[₹,  , 29,999]</td>\n",
       "      <td>[[16% off]]</td>\n",
       "    </tr>\n",
       "    <tr>\n",
       "      <th>13</th>\n",
       "      <td>LG 108 cm (43 inch) Ultra HD (4K) LED Smart TV</td>\n",
       "      <td>4.4</td>\n",
       "      <td>₹33,999</td>\n",
       "      <td>[₹,  , 52,990]</td>\n",
       "      <td>[[35% off]]</td>\n",
       "    </tr>\n",
       "    <tr>\n",
       "      <th>14</th>\n",
       "      <td>Motorola ZX2 80 cm (32 inch) HD Ready LED Smar...</td>\n",
       "      <td>4.4</td>\n",
       "      <td>₹16,999</td>\n",
       "      <td>[₹,  , 21,999]</td>\n",
       "      <td>[[22% off]]</td>\n",
       "    </tr>\n",
       "    <tr>\n",
       "      <th>15</th>\n",
       "      <td>iFFALCON by TCL 126 cm (50 inch) Ultra HD (4K)...</td>\n",
       "      <td>4.3</td>\n",
       "      <td>₹29,999</td>\n",
       "      <td>[₹,  , 58,990]</td>\n",
       "      <td>[[49% off]]</td>\n",
       "    </tr>\n",
       "    <tr>\n",
       "      <th>16</th>\n",
       "      <td>Motorola ZX Pro 127 cm (50 inch) Ultra HD (4K)...</td>\n",
       "      <td>4.4</td>\n",
       "      <td>₹33,999</td>\n",
       "      <td>[₹,  , 54,999]</td>\n",
       "      <td>[[38% off]]</td>\n",
       "    </tr>\n",
       "    <tr>\n",
       "      <th>17</th>\n",
       "      <td>iFFALCON by TCL AI Powered K31 108 cm (43 inch...</td>\n",
       "      <td>4.4</td>\n",
       "      <td>₹23,999</td>\n",
       "      <td>[₹,  , 47,990]</td>\n",
       "      <td>[[49% off]]</td>\n",
       "    </tr>\n",
       "    <tr>\n",
       "      <th>18</th>\n",
       "      <td>Motorola ZX2 100.3 cm (40 inch) Full HD LED Sm...</td>\n",
       "      <td>4.4</td>\n",
       "      <td>₹24,999</td>\n",
       "      <td>[₹,  , 26,999]</td>\n",
       "      <td>[[7% off]]</td>\n",
       "    </tr>\n",
       "    <tr>\n",
       "      <th>19</th>\n",
       "      <td>Vu Premium 108 cm (43 inch) Full HD LED Smart ...</td>\n",
       "      <td>4.3</td>\n",
       "      <td>₹24,999</td>\n",
       "      <td>[₹,  , 40,000]</td>\n",
       "      <td>[[37% off]]</td>\n",
       "    </tr>\n",
       "  </tbody>\n",
       "</table>\n",
       "</div>"
      ],
      "text/plain": [
       "                                              TV Name Rating    Price  \\\n",
       "0   Mi 4A Horizon Edition 80 cm (32 inch) HD Ready...    4.3  ₹14,999   \n",
       "1   Samsung 80 cm (32 inch) HD Ready LED Smart TV ...    4.4  ₹16,290   \n",
       "2   Mi 4A PRO 80 cm (32 inch) HD Ready LED Smart A...    4.4  ₹14,499   \n",
       "3   Mi 4X 125.7 cm (50 inch) Ultra HD (4K) LED Sma...    4.4  ₹33,499   \n",
       "4   Mi 4A Pro 108 cm (43 inch) Full HD LED Smart A...    4.4  ₹23,999   \n",
       "5   Mi 4X 108 cm (43 inch) Ultra HD (4K) LED Smart...    4.4  ₹27,499   \n",
       "6   Mi 4A 100 cm (40 inch) Full HD LED Smart Andro...    4.4  ₹19,999   \n",
       "7   Realme 80 cm (32 inch) HD Ready LED Smart Andr...    4.3  ₹13,999   \n",
       "8   LG 80 cm (32 inch) HD Ready LED Smart TV 2020 ...    4.3  ₹16,999   \n",
       "9   Samsung 80 cm (32 inch) HD Ready LED Smart TV ...    4.5  ₹16,799   \n",
       "10  Realme 108 cm (43 inch) Full HD LED Smart Andr...    4.3  ₹22,999   \n",
       "11  OnePlus Y Series 80 cm (32 inch) HD Ready LED ...    4.3  ₹15,499   \n",
       "12  OnePlus Y Series 108 cm (43 inch) Full HD LED ...    4.3  ₹24,999   \n",
       "13     LG 108 cm (43 inch) Ultra HD (4K) LED Smart TV    4.4  ₹33,999   \n",
       "14  Motorola ZX2 80 cm (32 inch) HD Ready LED Smar...    4.4  ₹16,999   \n",
       "15  iFFALCON by TCL 126 cm (50 inch) Ultra HD (4K)...    4.3  ₹29,999   \n",
       "16  Motorola ZX Pro 127 cm (50 inch) Ultra HD (4K)...    4.4  ₹33,999   \n",
       "17  iFFALCON by TCL AI Powered K31 108 cm (43 inch...    4.4  ₹23,999   \n",
       "18  Motorola ZX2 100.3 cm (40 inch) Full HD LED Sm...    4.4  ₹24,999   \n",
       "19  Vu Premium 108 cm (43 inch) Full HD LED Smart ...    4.3  ₹24,999   \n",
       "\n",
       "      Actual_price Discount_price  \n",
       "0   [₹,  , 15,999]     [[6% off]]  \n",
       "1   [₹,  , 19,900]    [[18% off]]  \n",
       "2   [₹,  , 14,999]     [[3% off]]  \n",
       "3   [₹,  , 34,999]     [[4% off]]  \n",
       "4   [₹,  , 25,999]     [[7% off]]  \n",
       "5   [₹,  , 28,999]     [[5% off]]  \n",
       "6             None           None  \n",
       "7   [₹,  , 14,999]     [[6% off]]  \n",
       "8   [₹,  , 21,990]    [[22% off]]  \n",
       "9   [₹,  , 20,900]    [[19% off]]  \n",
       "10  [₹,  , 25,999]    [[11% off]]  \n",
       "11  [₹,  , 19,999]    [[22% off]]  \n",
       "12  [₹,  , 29,999]    [[16% off]]  \n",
       "13  [₹,  , 52,990]    [[35% off]]  \n",
       "14  [₹,  , 21,999]    [[22% off]]  \n",
       "15  [₹,  , 58,990]    [[49% off]]  \n",
       "16  [₹,  , 54,999]    [[38% off]]  \n",
       "17  [₹,  , 47,990]    [[49% off]]  \n",
       "18  [₹,  , 26,999]     [[7% off]]  \n",
       "19  [₹,  , 40,000]    [[37% off]]  "
      ]
     },
     "execution_count": 17,
     "metadata": {},
     "output_type": "execute_result"
    }
   ],
   "source": [
    "# Converting the list into the data frame \n",
    "\n",
    "import pandas as pd\n",
    "\n",
    "df1 = pd.DataFrame({\"TV Name\" : name_tv,\n",
    "                  \"Rating\" : rating_tv,\n",
    "                  \"Price\" : price_tv,\n",
    "                  \"Actual_price\" : actual_tv,\n",
    "                  \"Discount_price\" : discount_tv})\n",
    "\n",
    "df1.head(20)"
   ]
  },
  {
   "cell_type": "code",
   "execution_count": 18,
   "metadata": {},
   "outputs": [
    {
     "data": {
      "text/plain": [
       "(480, 5)"
      ]
     },
     "execution_count": 18,
     "metadata": {},
     "output_type": "execute_result"
    }
   ],
   "source": [
    "df1.shape"
   ]
  },
  {
   "cell_type": "code",
   "execution_count": 19,
   "metadata": {},
   "outputs": [],
   "source": [
    "###END###"
   ]
  },
  {
   "cell_type": "code",
   "execution_count": null,
   "metadata": {},
   "outputs": [],
   "source": []
  }
 ],
 "metadata": {
  "kernelspec": {
   "display_name": "Python 3",
   "language": "python",
   "name": "python3"
  },
  "language_info": {
   "codemirror_mode": {
    "name": "ipython",
    "version": 3
   },
   "file_extension": ".py",
   "mimetype": "text/x-python",
   "name": "python",
   "nbconvert_exporter": "python",
   "pygments_lexer": "ipython3",
   "version": "3.7.6"
  }
 },
 "nbformat": 4,
 "nbformat_minor": 4
}
